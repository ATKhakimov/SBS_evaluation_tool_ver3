{
 "cells": [
  {
   "cell_type": "code",
   "execution_count": 1,
   "id": "e1be3fb4",
   "metadata": {},
   "outputs": [
    {
     "name": "stdout",
     "output_type": "stream",
     "text": [
      "OK:\n"
     ]
    }
   ],
   "source": [
    "# Добавляем текущую директорию в путь\n",
    "import sys\n",
    "import os\n",
    "\n",
    "current_dir = os.getcwd()\n",
    "if current_dir not in sys.path:\n",
    "    sys.path.insert(0, current_dir)\n",
    "# проверка\n",
    "from core.base_test import ModelReportBuilder, TestGroupBuilder\n",
    "print(\"OK:\")\n"
   ]
  },
  {
   "cell_type": "code",
   "execution_count": 5,
   "id": "1681173d",
   "metadata": {},
   "outputs": [
    {
     "name": "stdout",
     "output_type": "stream",
     "text": [
      "CPU times: total: 0 ns\n",
      "Wall time: 0 ns\n",
      "First check completed\n",
      "All imports completed\n"
     ]
    }
   ],
   "source": [
    "# ================================================\n",
    "# 0) Imports & Setup\n",
    "# ================================================\n",
    "\n",
    "import sys\n",
    "import os\n",
    "\n",
    "current_dir = os.getcwd()\n",
    "if current_dir not in sys.path:\n",
    "    sys.path.insert(0, current_dir)\n",
    "# проверка\n",
    "%time from core.base_test import ModelReportBuilder, TestGroupBuilder\n",
    "print(\"First check completed\")\n",
    "\n",
    "import numpy as np\n",
    "import pandas as pd\n",
    "from sklearn.datasets import fetch_california_housing\n",
    "from sklearn.model_selection import train_test_split\n",
    "from sklearn.ensemble import RandomForestClassifier, RandomForestRegressor\n",
    "from sklearn.preprocessing import KBinsDiscretizer\n",
    "\n",
    "# === Ваши модули (импортируйте из своего пакета/пути) ===\n",
    "# Импортируем базовые классы\n",
    "from core.base_test import ModelReportBuilder, TestGroupBuilder\n",
    "\n",
    "# Импортируем все доступные тесты M0 - качество данных\n",
    "from tests.m0_data_quality import (\n",
    "    M01_DataSummaryTest, M02_SampleOverlayTest, M03_ObsVsPredTest\n",
    ")\n",
    "\n",
    "# Импортируем все доступные тесты M1 - тесты распределения\n",
    "from tests.m1_distribution_tests import (\n",
    "    M11_TrainVsGenpopPSITest, M12_OOSVsGenpopPSITest, M13_MaxDateRecencyTest,\n",
    "    M14_DataQualityOverviewTest, M15_MissingValuesTest\n",
    ")\n",
    "\n",
    "# Импортируем все доступные тесты M2 - Gini тесты  \n",
    "from tests.m2_gini_tests import (\n",
    "    M21_GiniTest, M22_GiniFactorsTest, M24_GiniDynamicsTest, M25_GiniUpliftTest\n",
    ")\n",
    "\n",
    "# Импортируем все доступные тесты M3 - мультиколлинеарность\n",
    "from tests.m3_multicollinearity import (\n",
    "    M33_MulticollinearityTest  # M31 помечен как NOT FOR USE\n",
    ")\n",
    "\n",
    "# Импортируем все тесты M4\n",
    "from tests.m4_model_performance import (\n",
    "    M41_MetricConfidenceIntervalTest, M42_SampleSizeAdequacyTest, M43_CalibrationTest,\n",
    "    M44_OverfittingTest, M45_MetricStabilityTest, M46_CategoryQualityTest,\n",
    "    M47_ShapImportanceTest, M48_FeatureContributionTest, M49_UpliftTest,\n",
    "    M410_MissingValuesImpactTest, M411_TargetCorrelationTest, M412_FeatureCorrelationTest,\n",
    "    M413_VIFTest, M414_TwoForestSelectionTest\n",
    ")\n",
    "\n",
    "# Импортируем все доступные тесты M5 - стабильность модели\n",
    "from tests.m5_model_stability import (\n",
    "    M51_ModelGiniStabilityTest, M52_FactorGiniStabilityTest, M53_ScorePSITest, M54_FactorPSITest\n",
    ")\n",
    "\n",
    "# Импортируем PSI калькулятор\n",
    "from tests.psi_calculator import PSICalculator, PSICalculatorExtended\n",
    "# Флаги тяжёлых тестов\n",
    "RUN_SHAP = True     # M4.8 (и M4.7, если подключите)\n",
    "RUN_UPLIFT = True    # M4.9 — относительно тяжёлый\n",
    "print(\"All imports completed\")\n"
   ]
  },
  {
   "cell_type": "code",
   "execution_count": 6,
   "id": "b95d2703",
   "metadata": {},
   "outputs": [],
   "source": [
    "\n",
    "# ================================================\n",
    "# 1) Load California Housing & Build DataFrame\n",
    "#    (делаем бинарную задачу классификации)\n",
    "# ================================================\n",
    "data = fetch_california_housing(as_frame=True)\n",
    "df = data.frame.copy()\n",
    "df.rename(columns={\"MedHouseVal\": \"MedHouseVal\"}, inplace=True)\n",
    "\n",
    "# Колонки признаков (все числовые)\n",
    "num_features = [\n",
    "    \"MedInc\", \"HouseAge\", \"AveRooms\", \"AveBedrms\",\n",
    "    \"Population\", \"AveOccup\", \"Latitude\", \"Longitude\"\n",
    "]\n",
    "\n",
    "# Бинаризуем таргет по медиане (классификация)\n",
    "median_val = df[\"MedHouseVal\"].median()\n",
    "df[\"target\"] = (df[\"MedHouseVal\"] > median_val).astype(int)\n",
    "\n",
    "# Категориальный признак для M4.6 (качество по категориям):\n",
    "# бинируем Lat в 5 корзин\n",
    "kb = KBinsDiscretizer(n_bins=5, encode=\"ordinal\", strategy=\"quantile\")\n",
    "df[\"LatBin\"] = pd.Series(kb.fit_transform(df[[\"Latitude\"]]).astype(int).flatten(), index=df.index).astype(\"category\")\n",
    "\n",
    "# Дата: синтетическая месячная шкала (для M1.3, M4.5, M4.10)\n",
    "rng = np.random.default_rng(42)\n",
    "months = pd.date_range(\"2018-01-01\", periods=60, freq=\"MS\")\n",
    "df[\"date\"] = rng.choice(months, size=len(df))\n",
    "df[\"date\"] = pd.to_datetime(df[\"date\"])\n",
    "\n",
    "# Идентификатор\n",
    "df[\"id\"] = np.arange(len(df))\n",
    "\n",
    "# Разбиваем на train/test 70/30 и проставляем sample\n",
    "train_idx, test_idx = train_test_split(df.index, test_size=0.3, random_state=42, stratify=df[\"target\"])\n",
    "df[\"sample\"] = \"train\"\n",
    "df.loc[test_idx, \"sample\"] = \"test\"\n",
    "\n",
    "# Обучаем быструю модель-классификатор и сохраняем pred/score\n",
    "clf = RandomForestClassifier(n_estimators=500, random_state=42, n_jobs=-1)\n",
    "clf.fit(df.loc[train_idx, num_features], df.loc[train_idx, \"target\"])\n",
    "proba = clf.predict_proba(df[num_features])[:, 1]\n",
    "pred = (proba >= 0.5).astype(int)\n",
    "\n",
    "df[\"score\"] = proba        # вероятности положительного класса (для classification)\n",
    "df[\"pred\"] = pred          # предсказанная метка класса\n",
    "\n",
    "# Для M4.2/M4.9 понадобится класс модели (переобучения внутри тестов)\n",
    "model_class_clf = RandomForestClassifier\n"
   ]
  },
  {
   "cell_type": "code",
   "execution_count": 7,
   "id": "89c436e0",
   "metadata": {},
   "outputs": [],
   "source": [
    "\n",
    "\n",
    "# ================================================\n",
    "# 2) Build unified CONFIG\n",
    "# ================================================\n",
    "config = {\n",
    "    \"task\": \"classification\",  # мы сформировали бинарную задачу\n",
    "    \"columns\": {\n",
    "        \"numeric_features\": num_features,           # численные фичи\n",
    "        \"categorical_features\": [\"LatBin\"],         # категориальные фичи (по желанию)\n",
    "        \"score_column\": \"score\",                    # вероятность положительного класса\n",
    "        \"prediction_column\": \"pred\",                # метка класса\n",
    "        \"date_column\": \"date\",\n",
    "        \"target_column\": \"target\",\n",
    "        \"sample_column\": \"sample\",\n",
    "        \"id_column\": \"id\"\n",
    "    }\n",
    "}\n",
    "\n",
    "# PSI-калькулятор для M1\n",
    "psi_calc = PSICalculatorExtended()"
   ]
  },
  {
   "cell_type": "code",
   "execution_count": 8,
   "id": "0ee09685",
   "metadata": {},
   "outputs": [],
   "source": [
    "\n",
    "# ================================================\n",
    "# 3) Define & Run Groups M0–M4\n",
    "# ================================================\n",
    "# ---------- M0 ----------\n",
    "group_m0 = TestGroupBuilder(group_code=\"M0\", group_name=\"M0. Data Quality\")\n",
    "group_m0.add_test(M01_DataSummaryTest())\n",
    "group_m0.add_test(M02_SampleOverlayTest())\n",
    "group_m0.add_test(M03_ObsVsPredTest())\n",
    "\n",
    "group_m0.run_all_tests(test_params={\n",
    "    \"M 0.1\": {\"df\": df, \"config\": config},\n",
    "    \"M 0.2\": {\"df\": df, \"config\": config},\n",
    "    \"M 0.3\": {\"df\": df, \"config\": config},\n",
    "})\n"
   ]
  },
  {
   "cell_type": "code",
   "execution_count": 9,
   "id": "578cc650",
   "metadata": {},
   "outputs": [
    {
     "name": "stderr",
     "output_type": "stream",
     "text": [
      "M 1.1 - Processing Features: 100%|██████████| 9/9 [00:05<00:00,  1.74it/s]\n",
      "M 1.2 - Processing Features: 100%|██████████| 9/9 [00:05<00:00,  1.77it/s]\n"
     ]
    }
   ],
   "source": [
    "\n",
    "# ---------- M1 ----------\n",
    "group_m1 = TestGroupBuilder(group_code=\"M1\", group_name=\"M1. Distribution & PSI\")\n",
    "group_m1.add_test(M11_TrainVsGenpopPSITest(psi_calc=psi_calc))\n",
    "group_m1.add_test(M12_OOSVsGenpopPSITest(psi_calc=psi_calc))\n",
    "group_m1.add_test(M13_MaxDateRecencyTest())\n",
    "group_m1.add_test(M14_DataQualityOverviewTest())\n",
    "group_m1.add_test(M15_MissingValuesTest())\n",
    "\n",
    "group_m1.run_all_tests(test_params={\n",
    "    \"M 1.1\": {\"df\": df, \"config\": config},\n",
    "    \"M 1.2\": {\"df\": df, \"config\": config},\n",
    "    \"M 1.3\": {\"df\": df, \"config\": config},\n",
    "    \"M 1.4\": {\"df\": df, \"config\": config},\n",
    "    \"M 1.5\": {\"df\": df, \"config\": config},\n",
    "})\n"
   ]
  },
  {
   "cell_type": "code",
   "execution_count": 13,
   "id": "33bafe02",
   "metadata": {},
   "outputs": [],
   "source": [
    "\n",
    "# ---------- M2 (Gini — классификация) ----------\n",
    "group_m2 = TestGroupBuilder(group_code=\"M2\", group_name=\"M2. Gini Tests\")\n",
    "group_m2.add_test(M21_GiniTest())\n",
    "group_m2.add_test(M22_GiniFactorsTest())\n",
    "group_m2.add_test(M24_GiniDynamicsTest())\n",
    "group_m2.add_test(M25_GiniUpliftTest())\n",
    "\n",
    "group_m2.run_all_tests(test_params={\n",
    "    \"M 2.1\": {\"df\": df, \"config\": config},\n",
    "    \"M 2.2\": {\"df\": df, \"config\": config},\n",
    "    \"M 2.4\": {\"df\": df, \"config\": config},\n",
    "    \"M 2.5\": {\"df\": df, \"config\": config}\n",
    "})\n"
   ]
  },
  {
   "cell_type": "code",
   "execution_count": 15,
   "id": "b73e7755",
   "metadata": {},
   "outputs": [
    {
     "name": "stderr",
     "output_type": "stream",
     "text": [
      "Calculating VIF: 100%|██████████| 8/8 [00:00<00:00, 365.31it/s]\n",
      "Calculating VIF: 100%|██████████| 8/8 [00:00<00:00, 999.92it/s]\n"
     ]
    }
   ],
   "source": [
    "\n",
    "# ---------- M3 ----------\n",
    "group_m3 = TestGroupBuilder(group_code=\"M3\", group_name=\"M3. Multicollinearity\")\n",
    "group_m3.add_test(M33_MulticollinearityTest())\n",
    "\n",
    "group_m3.run_all_tests(test_params={\n",
    "    \"M 3.3\": {\"df\": df, \"config\": config}\n",
    "})\n"
   ]
  },
  {
   "cell_type": "code",
   "execution_count": 11,
   "id": "ea6896b0",
   "metadata": {},
   "outputs": [
    {
     "name": "stderr",
     "output_type": "stream",
     "text": [
      "Bootstrapping metric: 100%|██████████| 300/300 [00:00<00:00, 484.65it/s]\n",
      "Testing different sample sizes: 100%|██████████| 10/10 [00:05<00:00,  1.75it/s]\n",
      " 98%|===================| 197/200 [00:13<00:00]        "
     ]
    }
   ],
   "source": [
    "\n",
    "# ---------- M4 ----------\n",
    "group_m4 = TestGroupBuilder(group_code=\"M4\", group_name=\"M4. Model Performance\")\n",
    "\n",
    "# 4.1 — доверительные интервалы метрик (классификация)\n",
    "group_m4.add_test(M41_MetricConfidenceIntervalTest(model_type='classification', n_iterations=300))\n",
    "# 4.2 — достаточность размера выборки (нужна модель)\n",
    "group_m4.add_test(M42_SampleSizeAdequacyTest(model_type='classification'))\n",
    "# 4.3 — калибровка (только классификация)\n",
    "group_m4.add_test(M43_CalibrationTest())\n",
    "# 4.4 — переобучение\n",
    "group_m4.add_test(M44_OverfittingTest(model_type='classification'))\n",
    "# 4.5 — стабильность метрики во времени\n",
    "group_m4.add_test(M45_MetricStabilityTest())\n",
    "# 4.6 — качество по категориям\n",
    "#group_m4.add_test(M46_CategoryQualityTest(model_type='classification'))\n",
    "# 4.8 — вклад признаков (SHAP, по желанию)\n",
    "if RUN_SHAP:\n",
    "    group_m4.add_test(M48_FeatureContributionTest())\n",
    "# 4.9 — избыточность признаков (кривая uplift)\n",
    "if RUN_UPLIFT:\n",
    "    group_m4.add_test(M49_UpliftTest(model_type='classification'))\n",
    "# 4.10 — пропуски (динамика)\n",
    "group_m4.add_test(M410_MissingValuesImpactTest(threshold=0.8))\n",
    "# 4.11 — корреляция с таргетом\n",
    "#group_m4.add_test(M411_TargetCorrelationTest())\n",
    "# 4.12 — корреляция между фичами\n",
    "#group_m4.add_test(M412_FeatureCorrelationTest(threshold=0.95))\n",
    "# 4.13 — VIF-анализ\n",
    "#group_m4.add_test(M413_VIFTest())\n",
    "# (4.14 — TwoForestSelectionTest можно добавить при необходимости)\n",
    "group_m4.add_test(M414_TwoForestSelectionTest(model_type='classification'))\n",
    "\n",
    "# Параметры для M4:\n",
    "m4_params = {\n",
    "    \"M 4.1\": {\"df\": df, \"config\": config, \"sample\": \"test\"},\n",
    "    \"M 4.2\": {\"df\": df, \"config\": config, \"model\": RandomForestClassifier(n_estimators=200, random_state=42, n_jobs=-1), \"sample\": \"train\"},\n",
    "    \"M 4.3\": {\"df\": df, \"config\": config, \"sample\": \"test\"},\n",
    "    \"M 4.4\": {\"df\": df, \"config\": config},\n",
    "    \"M 4.5\": {\"df\": df, \"config\": config, \"sample\": \"test\", \"freq\": \"M\"},\n",
    "    #\"M 4.6\": {\"df\": df, \"config\": config, \"category_column\": \"LatBin\", \"sample\": \"test\"},\n",
    "    \"M 4.10\": {\"df\": df, \"config\": config},\n",
    "    #\"M 4.11\": {\"df\": df, \"config\": config},\n",
    "    #\"M 4.12\": {\"df\": df, \"config\": config},\n",
    "    #\"M 4.13\": {\"df\": df, \"config\": config},\n",
    "    \"M 4.14\": {\"df\": df, \"config\": config}\n",
    "}\n",
    "if RUN_SHAP:\n",
    "    m4_params[\"M 4.8\"] = {\"df\": df, \"config\": config, \"model\": clf, \"sample\": \"test\"}\n",
    "if RUN_UPLIFT:\n",
    "    m4_params[\"M 4.9\"] = {\"df\": df, \"config\": config, \"model_class\": model_class_clf}\n",
    "\n",
    "group_m4.run_all_tests(test_params=m4_params)\n",
    "\n"
   ]
  },
  {
   "cell_type": "code",
   "execution_count": 16,
   "id": "d07d901a",
   "metadata": {},
   "outputs": [
    {
     "name": "stdout",
     "output_type": "stream",
     "text": [
      "Готово: report_california_housing_M0-M4.html\n"
     ]
    }
   ],
   "source": [
    "\n",
    "# ================================================\n",
    "# 4) Build final HTML report\n",
    "# ================================================\n",
    "builder = ModelReportBuilder()\n",
    "builder.add_group(group_m0)\n",
    "builder.add_group(group_m1)\n",
    "builder.add_group(group_m2)\n",
    "builder.add_group(group_m3)\n",
    "builder.add_group(group_m4)\n",
    "\n",
    "html = builder.generate_html()\n",
    "with open(\"report_california_housing_M0-M4.html\", \"w\", encoding=\"utf-8\") as f:\n",
    "    f.write(html)\n",
    "\n",
    "print(\"Готово: report_california_housing_M0-M4.html\")\n"
   ]
  }
 ],
 "metadata": {
  "kernelspec": {
   "display_name": "Python 3",
   "language": "python",
   "name": "python3"
  },
  "language_info": {
   "codemirror_mode": {
    "name": "ipython",
    "version": 3
   },
   "file_extension": ".py",
   "mimetype": "text/x-python",
   "name": "python",
   "nbconvert_exporter": "python",
   "pygments_lexer": "ipython3",
   "version": "3.11.9"
  }
 },
 "nbformat": 4,
 "nbformat_minor": 5
}
